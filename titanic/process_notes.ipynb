{
 "cells": [
  {
   "cell_type": "markdown",
   "metadata": {},
   "source": [
    "Sketch of ML process:\n",
    "\n",
    "1. Get Data\n",
    "\n",
    "2. Clean Data\n",
    "\n",
    "3. Feature Engineering\n",
    " \n",
    "4. Normalize Data (continuous features):\n",
    "    - standardize (divide by std. deviation)\n",
    "    - center (subtract mean)\n",
    "    \n",
    "5. Encode Categorical Variables:\n",
    "    - Integer Encoding\n",
    "    - One Hot Encoding\n",
    " \n",
    "6. Split Training into Training and Test Data ~(80/20)\n",
    "\n",
    "7. Split leftover Training data again: this time into Training and Validation (~80/20) (depending on size of data set. Won't - matter as much on very large sets)\n",
    "\n",
    "8. Separate labels from Validation set. Keep aside.\n",
    "\n",
    "9. Separate labels from Test set. Keep aside.\n",
    "\n",
    "10. Choose a few models.\n",
    "\n",
    "11. for each  model:\n",
    "    1.  Train base model on \"training set\".\n",
    "    2.  Tune and test hyper parameters on \"validation set\"\n",
    "    3.  Save best scores and parameters \n",
    "               \n",
    "12. Compare each model's final scores on the test data\n",
    "\n",
    "13. Choose the base model with highest scores.\n",
    "\n",
    "\n",
    "\n",
    "\n",
    "        \n",
    "\n",
    "\n",
    " "
   ]
  },
  {
   "cell_type": "code",
   "execution_count": null,
   "metadata": {},
   "outputs": [],
   "source": []
  }
 ],
 "metadata": {
  "kernelspec": {
   "display_name": "Python 3",
   "language": "python",
   "name": "python3"
  },
  "language_info": {
   "codemirror_mode": {
    "name": "ipython",
    "version": 3
   },
   "file_extension": ".py",
   "mimetype": "text/x-python",
   "name": "python",
   "nbconvert_exporter": "python",
   "pygments_lexer": "ipython3",
   "version": "3.8.0"
  }
 },
 "nbformat": 4,
 "nbformat_minor": 4
}
