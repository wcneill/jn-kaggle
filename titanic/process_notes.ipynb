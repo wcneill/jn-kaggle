{
 "cells": [
  {
   "cell_type": "markdown",
   "metadata": {},
   "source": [
    "Sketch of ML process:\n",
    "\n",
    "- Get Data\n",
    "\n",
    "- Normalize Data:\n",
    "   - standardize (divide by std. deviation)\n",
    "   - center (subtract mean)\n",
    " \n",
    "- Split Training into Training and Test Data ~(80/20)\n",
    "- Split leftover Training data again: this time into Training and Validation (~80/20) (depending on size of data set. Won't - matter as much on very large sets)\n",
    "\n",
    "\n",
    "- Separate labels from Validation set. Keep aside.\n",
    "- Separate labels from Test set. Keep aside.\n",
    "\n",
    "- Choose a few models.\n",
    "- for each  model:\n",
    "  -  Train base model.\n",
    "   - Tune parameters and features based on Validation set\n",
    "   - When model optimally tuned:\n",
    "    -    Run Model on Test Data\n",
    "    -    Also save the good features\n",
    "    -    Save Scores from Test Data \n",
    "        \n",
    "- Compare each model's final scores on the test data\n",
    "\n",
    "- If you are doing Kaggle where you have some unlabeled data, now you need to apply whatever feature engineering ended up working to it for your final submission.\n",
    "        \n",
    "\n",
    "\n",
    " "
   ]
  },
  {
   "cell_type": "code",
   "execution_count": null,
   "metadata": {},
   "outputs": [],
   "source": []
  }
 ],
 "metadata": {
  "kernelspec": {
   "display_name": "Python 3",
   "language": "python",
   "name": "python3"
  },
  "language_info": {
   "codemirror_mode": {
    "name": "ipython",
    "version": 3
   },
   "file_extension": ".py",
   "mimetype": "text/x-python",
   "name": "python",
   "nbconvert_exporter": "python",
   "pygments_lexer": "ipython3",
   "version": "3.8.0"
  }
 },
 "nbformat": 4,
 "nbformat_minor": 4
}
