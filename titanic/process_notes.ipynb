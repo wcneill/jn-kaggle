{
 "cells": [
  {
   "cell_type": "markdown",
   "metadata": {},
   "source": [
    "Sketch of ML process:\n",
    "\n",
    "1. Get Data\n",
    "2. Exploratory Data Analysis\n",
    "    1. Encode Variables for statistical analysis\n",
    "        1. Integer\n",
    "        2. One-Hot\n",
    "        3. Target\n",
    "        4. Weight of Evidence\n",
    "    2. Discover missing data\n",
    "    3. Discover types of data\n",
    "    4. Look for relationships between variables\n",
    "3. Feature Selection/Engineering (watch for data leaks)\n",
    "4. Split data into Training and Test Data ~(80/20)\n",
    "5. Separately, for training and test sets:\n",
    "    1. Normalize Data (continuous features):\n",
    "        1. center (subtract mean)\n",
    "        2. standardize (divide by std. deviation)\n",
    "    2. Impute Missing Values\n",
    "6. Separate labels from Test set if classification problem. Keep aside.\n",
    "7. Choose a few models.\n",
    "8. for each model, using k-fold cross-validaton on Training Set:\n",
    "    1. Train and tune base model.\n",
    "    2. Save best parameters\n",
    "12. Compare each model's final scores on test set.\n",
    "13. Choose the model with highest scores.\n",
    "\n",
    "\n",
    "\n",
    "\n",
    "        \n",
    "\n",
    "\n",
    " "
   ]
  },
  {
   "cell_type": "code",
   "execution_count": null,
   "metadata": {},
   "outputs": [],
   "source": []
  }
 ],
 "metadata": {
  "kernelspec": {
   "display_name": "Python 3",
   "language": "python",
   "name": "python3"
  },
  "language_info": {
   "codemirror_mode": {
    "name": "ipython",
    "version": 3
   },
   "file_extension": ".py",
   "mimetype": "text/x-python",
   "name": "python",
   "nbconvert_exporter": "python",
   "pygments_lexer": "ipython3",
   "version": "3.8.0"
  }
 },
 "nbformat": 4,
 "nbformat_minor": 4
}
