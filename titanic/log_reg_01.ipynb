{
 "cells": [
  {
   "cell_type": "markdown",
   "metadata": {},
   "source": [
    "# Hyper Parameter Tuning\n",
    "\n",
    "In the last section, we focused on cleaning data in order to achieve our first decent prediction. Now we are going to focus on hyper parameter tuning in order to improve our model's score even more (hopefully)."
   ]
  },
  {
   "cell_type": "code",
   "execution_count": 104,
   "metadata": {},
   "outputs": [],
   "source": [
    "from IPython.utils import io\n",
    "from sklearn.model_selection import GridSearchCV\n",
    "from sklearn import metrics"
   ]
  },
  {
   "cell_type": "code",
   "execution_count": 123,
   "metadata": {},
   "outputs": [],
   "source": [
    "with io.capture_output() as captured:\n",
    "    %run log_reg_00.ipynb "
   ]
  },
  {
   "cell_type": "code",
   "execution_count": 124,
   "metadata": {},
   "outputs": [
    {
     "data": {
      "text/plain": [
       "{'C': 1.0,\n",
       " 'class_weight': None,\n",
       " 'dual': False,\n",
       " 'fit_intercept': True,\n",
       " 'intercept_scaling': 1,\n",
       " 'l1_ratio': None,\n",
       " 'max_iter': 100,\n",
       " 'multi_class': 'auto',\n",
       " 'n_jobs': None,\n",
       " 'penalty': 'l2',\n",
       " 'random_state': None,\n",
       " 'solver': 'lbfgs',\n",
       " 'tol': 0.0001,\n",
       " 'verbose': 0,\n",
       " 'warm_start': False}"
      ]
     },
     "execution_count": 124,
     "metadata": {},
     "output_type": "execute_result"
    }
   ],
   "source": [
    "# Display the parameters for our logistic regression estimator:\n",
    "h_params = classifier_os.get_params()\n",
    "h_params"
   ]
  },
  {
   "cell_type": "code",
   "execution_count": 153,
   "metadata": {},
   "outputs": [],
   "source": [
    "p_grid = {\n",
    "    'C': np.logspace(-3, 3, 7),\n",
    "    'fit_intercept': [1, 0],\n",
    "    'max_iter': [1000]\n",
    "}"
   ]
  },
  {
   "cell_type": "code",
   "execution_count": 154,
   "metadata": {},
   "outputs": [],
   "source": [
    "clf = model_selection.GridSearchCV(classifier_os, p_grid, scoring='f1')"
   ]
  },
  {
   "cell_type": "code",
   "execution_count": 155,
   "metadata": {},
   "outputs": [
    {
     "data": {
      "text/plain": [
       "GridSearchCV(cv=None, error_score=nan,\n",
       "             estimator=LogisticRegression(C=1.0, class_weight=None, dual=False,\n",
       "                                          fit_intercept=True,\n",
       "                                          intercept_scaling=1, l1_ratio=None,\n",
       "                                          max_iter=100, multi_class='auto',\n",
       "                                          n_jobs=None, penalty='l2',\n",
       "                                          random_state=None, solver='lbfgs',\n",
       "                                          tol=0.0001, verbose=0,\n",
       "                                          warm_start=False),\n",
       "             iid='deprecated', n_jobs=None,\n",
       "             param_grid={'C': array([1.e-03, 1.e-02, 1.e-01, 1.e+00, 1.e+01, 1.e+02, 1.e+03]),\n",
       "                         'fit_intercept': [1, 0], 'max_iter': [1000]},\n",
       "             pre_dispatch='2*n_jobs', refit=True, return_train_score=False,\n",
       "             scoring='f1', verbose=0)"
      ]
     },
     "execution_count": 155,
     "metadata": {},
     "output_type": "execute_result"
    }
   ],
   "source": [
    "clf.fit(x_train, y_train)"
   ]
  },
  {
   "cell_type": "code",
   "execution_count": 156,
   "metadata": {},
   "outputs": [
    {
     "data": {
      "text/plain": [
       "({'C': 10.0, 'fit_intercept': 1, 'max_iter': 1000}, 0.8062774992610986)"
      ]
     },
     "execution_count": 156,
     "metadata": {},
     "output_type": "execute_result"
    }
   ],
   "source": [
    "clf.best_params_, clf.best_score_"
   ]
  },
  {
   "cell_type": "code",
   "execution_count": 159,
   "metadata": {},
   "outputs": [
    {
     "data": {
      "text/html": [
       "<div>\n",
       "<style scoped>\n",
       "    .dataframe tbody tr th:only-of-type {\n",
       "        vertical-align: middle;\n",
       "    }\n",
       "\n",
       "    .dataframe tbody tr th {\n",
       "        vertical-align: top;\n",
       "    }\n",
       "\n",
       "    .dataframe thead th {\n",
       "        text-align: right;\n",
       "    }\n",
       "</style>\n",
       "<table border=\"1\" class=\"dataframe\">\n",
       "  <thead>\n",
       "    <tr style=\"text-align: right;\">\n",
       "      <th></th>\n",
       "      <th>mean_fit_time</th>\n",
       "      <th>std_fit_time</th>\n",
       "      <th>mean_score_time</th>\n",
       "      <th>std_score_time</th>\n",
       "      <th>param_C</th>\n",
       "      <th>param_penalty</th>\n",
       "      <th>params</th>\n",
       "      <th>split0_test_score</th>\n",
       "      <th>split1_test_score</th>\n",
       "      <th>split2_test_score</th>\n",
       "      <th>split3_test_score</th>\n",
       "      <th>split4_test_score</th>\n",
       "      <th>mean_test_score</th>\n",
       "      <th>std_test_score</th>\n",
       "      <th>rank_test_score</th>\n",
       "    </tr>\n",
       "  </thead>\n",
       "  <tbody>\n",
       "    <tr>\n",
       "      <th>8</th>\n",
       "      <td>0.010631</td>\n",
       "      <td>0.002820</td>\n",
       "      <td>0.001400</td>\n",
       "      <td>0.000789</td>\n",
       "      <td>10</td>\n",
       "      <td>l1</td>\n",
       "      <td>{'C': 10.0, 'penalty': 'l1'}</td>\n",
       "      <td>0.836364</td>\n",
       "      <td>0.787879</td>\n",
       "      <td>0.824242</td>\n",
       "      <td>0.792683</td>\n",
       "      <td>0.780488</td>\n",
       "      <td>0.804331</td>\n",
       "      <td>0.021897</td>\n",
       "      <td>1</td>\n",
       "    </tr>\n",
       "    <tr>\n",
       "      <th>10</th>\n",
       "      <td>0.008469</td>\n",
       "      <td>0.005420</td>\n",
       "      <td>0.001009</td>\n",
       "      <td>0.000014</td>\n",
       "      <td>100</td>\n",
       "      <td>l1</td>\n",
       "      <td>{'C': 100.0, 'penalty': 'l1'}</td>\n",
       "      <td>0.836364</td>\n",
       "      <td>0.787879</td>\n",
       "      <td>0.824242</td>\n",
       "      <td>0.792683</td>\n",
       "      <td>0.780488</td>\n",
       "      <td>0.804331</td>\n",
       "      <td>0.021897</td>\n",
       "      <td>1</td>\n",
       "    </tr>\n",
       "    <tr>\n",
       "      <th>11</th>\n",
       "      <td>0.003210</td>\n",
       "      <td>0.000403</td>\n",
       "      <td>0.001195</td>\n",
       "      <td>0.000402</td>\n",
       "      <td>100</td>\n",
       "      <td>l2</td>\n",
       "      <td>{'C': 100.0, 'penalty': 'l2'}</td>\n",
       "      <td>0.836364</td>\n",
       "      <td>0.787879</td>\n",
       "      <td>0.824242</td>\n",
       "      <td>0.792683</td>\n",
       "      <td>0.780488</td>\n",
       "      <td>0.804331</td>\n",
       "      <td>0.021897</td>\n",
       "      <td>1</td>\n",
       "    </tr>\n",
       "  </tbody>\n",
       "</table>\n",
       "</div>"
      ],
      "text/plain": [
       "    mean_fit_time  std_fit_time  mean_score_time  std_score_time param_C  \\\n",
       "8        0.010631      0.002820         0.001400        0.000789      10   \n",
       "10       0.008469      0.005420         0.001009        0.000014     100   \n",
       "11       0.003210      0.000403         0.001195        0.000402     100   \n",
       "\n",
       "   param_penalty                         params  split0_test_score  \\\n",
       "8             l1   {'C': 10.0, 'penalty': 'l1'}           0.836364   \n",
       "10            l1  {'C': 100.0, 'penalty': 'l1'}           0.836364   \n",
       "11            l2  {'C': 100.0, 'penalty': 'l2'}           0.836364   \n",
       "\n",
       "    split1_test_score  split2_test_score  split3_test_score  \\\n",
       "8            0.787879           0.824242           0.792683   \n",
       "10           0.787879           0.824242           0.792683   \n",
       "11           0.787879           0.824242           0.792683   \n",
       "\n",
       "    split4_test_score  mean_test_score  std_test_score  rank_test_score  \n",
       "8            0.780488         0.804331        0.021897                1  \n",
       "10           0.780488         0.804331        0.021897                1  \n",
       "11           0.780488         0.804331        0.021897                1  "
      ]
     },
     "execution_count": 159,
     "metadata": {},
     "output_type": "execute_result"
    }
   ],
   "source": [
    "pd.DataFrame(best_model.cv_results_).sort_values(by='mean_test_score', ascending=False).head(3)"
   ]
  },
  {
   "cell_type": "code",
   "execution_count": 160,
   "metadata": {},
   "outputs": [],
   "source": [
    "y_pred = clf.predict(x_test)"
   ]
  },
  {
   "cell_type": "code",
   "execution_count": 161,
   "metadata": {},
   "outputs": [],
   "source": [
    "def pprint(web, level):\n",
    "    for k,v in web.items():\n",
    "        if isinstance(v, dict):\n",
    "            print('\\t'*level, f'{k}: ')\n",
    "            level += 1\n",
    "            pprint(v, level)\n",
    "            level -= 1\n",
    "        else:\n",
    "            print('\\t'*level, k, \": \", v)"
   ]
  },
  {
   "cell_type": "code",
   "execution_count": 162,
   "metadata": {},
   "outputs": [
    {
     "name": "stdout",
     "output_type": "stream",
     "text": [
      " died: \n",
      "\t precision :  0.8344827586206897\n",
      "\t recall :  0.8287671232876712\n",
      "\t f1-score :  0.8316151202749139\n",
      "\t support :  146\n",
      " lived: \n",
      "\t precision :  0.8076923076923077\n",
      "\t recall :  0.813953488372093\n",
      "\t f1-score :  0.8108108108108109\n",
      "\t support :  129\n",
      " accuracy :  0.8218181818181818\n",
      " macro avg: \n",
      "\t precision :  0.8210875331564986\n",
      "\t recall :  0.8213603058298822\n",
      "\t f1-score :  0.8212129655428624\n",
      "\t support :  275\n",
      " weighted avg: \n",
      "\t precision :  0.8219156016397396\n",
      "\t recall :  0.8218181818181818\n",
      "\t f1-score :  0.8218560078353893\n",
      "\t support :  275\n"
     ]
    }
   ],
   "source": [
    "results = metrics.classification_report(y_pred, y_test, target_names=['died', 'lived'], output_dict=True)\n",
    "pprint(results, 0)"
   ]
  },
  {
   "cell_type": "code",
   "execution_count": 163,
   "metadata": {},
   "outputs": [],
   "source": [
    "y_pred2 = classifier_os.predict(x_test)"
   ]
  },
  {
   "cell_type": "code",
   "execution_count": 164,
   "metadata": {},
   "outputs": [
    {
     "name": "stdout",
     "output_type": "stream",
     "text": [
      " 0: \n",
      "\t precision :  0.8344827586206897\n",
      "\t recall :  0.8402777777777778\n",
      "\t f1-score :  0.8373702422145328\n",
      "\t support :  144\n",
      " 1: \n",
      "\t precision :  0.823076923076923\n",
      "\t recall :  0.816793893129771\n",
      "\t f1-score :  0.8199233716475096\n",
      "\t support :  131\n",
      " accuracy :  0.8290909090909091\n",
      " macro avg: \n",
      "\t precision :  0.8287798408488063\n",
      "\t recall :  0.8285358354537744\n",
      "\t f1-score :  0.8286468069310212\n",
      "\t support :  275\n",
      " weighted avg: \n",
      "\t precision :  0.8290494333252953\n",
      "\t recall :  0.8290909090909091\n",
      "\t f1-score :  0.82905918750806\n",
      "\t support :  275\n"
     ]
    }
   ],
   "source": [
    "pprint(metrics.classification_report(y_pred2, y_test, output_dict=True), 0)"
   ]
  },
  {
   "cell_type": "code",
   "execution_count": null,
   "metadata": {},
   "outputs": [],
   "source": []
  }
 ],
 "metadata": {
  "kernelspec": {
   "display_name": "Python 3",
   "language": "python",
   "name": "python3"
  },
  "language_info": {
   "codemirror_mode": {
    "name": "ipython",
    "version": 3
   },
   "file_extension": ".py",
   "mimetype": "text/x-python",
   "name": "python",
   "nbconvert_exporter": "python",
   "pygments_lexer": "ipython3",
   "version": "3.8.0"
  }
 },
 "nbformat": 4,
 "nbformat_minor": 4
}
