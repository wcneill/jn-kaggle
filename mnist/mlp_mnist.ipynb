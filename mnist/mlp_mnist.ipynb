{
 "cells": [
  {
   "cell_type": "code",
   "execution_count": 1,
   "metadata": {},
   "outputs": [],
   "source": [
    "import torch\n",
    "import torch.nn.functional as F\n",
    "from torchvision import datasets, transforms, models\n",
    "from torch import nn, optim\n",
    "from torch.utils.data import Dataset, DataLoader\n",
    "\n",
    "import pandas as pd\n",
    "import numpy as np\n",
    "import matplotlib.pyplot as plt"
   ]
  },
  {
   "cell_type": "code",
   "execution_count": 11,
   "metadata": {},
   "outputs": [],
   "source": [
    "class MNIST(Dataset):\n",
    "    \"\"\" Kaggle's MNIST dataset. \"\"\"\n",
    "    def __init__(self, csv_file, transform=None):\n",
    "        \"\"\"\n",
    "        Args: \n",
    "            csv_file (string): Path to CSV file with image pixel data\n",
    "            transform (callable, optional): Optional transform applied to the sample\n",
    "        \"\"\"\n",
    "        self.pixel_frame = pd.read_csv(csv_file)\n",
    "        self.transform = transform\n",
    "\n",
    "    def __len__(self):\n",
    "        return len(self.pixel_frame)\n",
    "\n",
    "    def __getitem__(self, index):\n",
    "        if torch.is_tensor(index):\n",
    "            index = index.tolist()\n",
    "\n",
    "        image = self.pixel_frame.iloc[index, 1:].to_numpy(dtype='float64').reshape(1, -1)\n",
    "        label = self.pixel_frame.iloc[index, 0]\n",
    "        if self.transform:\n",
    "            image = self.transform(image)\n",
    "\n",
    "        return image, label"
   ]
  },
  {
   "cell_type": "code",
   "execution_count": 12,
   "metadata": {},
   "outputs": [],
   "source": [
    "tfs = transforms.Compose([\n",
    "                          transforms.ToTensor(), \n",
    "                          transforms.Normalize((0.5,), (0.5,))])\n",
    "\n",
    "data = MNIST('data/train.csv', transform=tfs)"
   ]
  },
  {
   "cell_type": "code",
   "execution_count": 13,
   "metadata": {},
   "outputs": [],
   "source": [
    "lengths = (33600, 8400)\n",
    "trainset, validset = torch.utils.data.random_split(data, lengths)"
   ]
  },
  {
   "cell_type": "code",
   "execution_count": 14,
   "metadata": {},
   "outputs": [],
   "source": [
    "trainload = torch.utils.data.DataLoader(trainset, batch_size=64, num_workers=4, shuffle=True)\n",
    "validload = torch.utils.data.DataLoader(validset, batch_size=64, num_workers=4, shuffle=True)"
   ]
  },
  {
   "cell_type": "code",
   "execution_count": 15,
   "metadata": {},
   "outputs": [],
   "source": [
    "# Two hidden layers with 512 nodes each. Based of Keras docs sample. \n",
    "class Network(nn.Module):\n",
    "    def __init__(self):\n",
    "        super().__init__()\n",
    "        self.fc1 = nn.Linear(784, 512)\n",
    "        self.fc2 = nn.Linear(512, 512)\n",
    "        self.fc3 = nn.Linear(512, 10)\n",
    "        self.do = nn.Dropout(p=0.2)\n",
    "    \n",
    "    def forward(self, x):\n",
    "        x = self.do(F.relu(self.fc1(x)))\n",
    "        x = self.do(F.relu(self.fc2(x)))\n",
    "        x = self.fc3(x)\n",
    "        return x\n",
    "        "
   ]
  },
  {
   "cell_type": "code",
   "execution_count": 26,
   "metadata": {},
   "outputs": [],
   "source": [
    "device = torch.device('cuda' if torch.cuda.is_available() else 'cpu')\n",
    "model  = Network()"
   ]
  },
  {
   "cell_type": "code",
   "execution_count": 27,
   "metadata": {},
   "outputs": [
    {
     "name": "stdout",
     "output_type": "stream",
     "text": [
      "---------epoch 0---------\n",
      "New Minimum Validation Loss: 0.086243\n",
      "Saving model...\n",
      "---------epoch 1---------\n",
      "New Minimum Validation Loss: 0.056415\n",
      "Saving model...\n",
      "---------epoch 2---------\n",
      "New Minimum Validation Loss: 0.045520\n",
      "Saving model...\n",
      "---------epoch 3---------\n",
      "New Minimum Validation Loss: 0.039294\n",
      "Saving model...\n",
      "---------epoch 4---------\n",
      "New Minimum Validation Loss: 0.034333\n",
      "Saving model...\n",
      "---------epoch 5---------\n",
      "New Minimum Validation Loss: 0.032740\n",
      "Saving model...\n",
      "---------epoch 6---------\n",
      "New Minimum Validation Loss: 0.030853\n",
      "Saving model...\n",
      "---------epoch 7---------\n",
      "New Minimum Validation Loss: 0.028058\n",
      "Saving model...\n",
      "---------epoch 9---------\n",
      "New Minimum Validation Loss: 0.027521\n",
      "Saving model...\n",
      "---------epoch 12---------\n",
      "New Minimum Validation Loss: 0.026312\n",
      "Saving model...\n"
     ]
    }
   ],
   "source": [
    "criterion = nn.CrossEntropyLoss()\n",
    "opt = optim.Adam(model.parameters(), lr=0.0001)\n",
    "epochs = 35\n",
    "\n",
    "min_valid_loss = np.Inf\n",
    "valid_loss = []\n",
    "train_loss = []\n",
    "accuracy   = []\n",
    "\n",
    "model.to(device)\n",
    "\n",
    "for e in range(epochs):\n",
    "    running_vl = 0\n",
    "    running_tl = 0\n",
    "    running_ac = 0\n",
    "    nodrop_count = 0\n",
    "    \n",
    "    # back propogation\n",
    "    for images, labels in trainload:\n",
    "        images = images.view(images.shape[0], -1).float()\n",
    "        images = images.to(device)\n",
    "        labels = labels.to(device)\n",
    "        \n",
    "        opt.zero_grad()\n",
    "        output = model.forward(images)\n",
    "        t_loss = criterion(output, labels)\n",
    "        t_loss.backward()\n",
    "        opt.step()\n",
    "        \n",
    "        running_tl += t_loss.item()\n",
    "        \n",
    "    # validation pass\n",
    "    model.eval()\n",
    "    with torch.no_grad():\n",
    "        for images, labels in validload:\n",
    "            images = images.to(device)\n",
    "            labels = labels.to(device)\n",
    "            images = images.view(images.shape[0], -1).float()\n",
    "\n",
    "            logps = model(images)\n",
    "            preds = torch.argmax(logps, dim=1)\n",
    "            v_loss = criterion(logps, labels)\n",
    "            running_ac += (preds == labels).cpu().numpy().mean()\n",
    "            running_vl += v_loss.item()\n",
    "    model.train()\n",
    "    \n",
    "    # compute metrics for epoch\n",
    "    running_tl = running_tl/len(trainload)\n",
    "    running_vl = running_vl/len(trainload)\n",
    "    train_loss.append(running_tl)\n",
    "    valid_loss.append(running_vl)\n",
    "    \n",
    "    # save validation loss when minimum is broken\n",
    "    if running_vl < min_valid_loss:\n",
    "        print(f'---------epoch {e}---------')\n",
    "        print(f'New Minimum Validation Loss: {running_vl:.6f}')\n",
    "        print('Saving model...')\n",
    "        torch.save(model.state_dict(), 'model2.pt')\n",
    "        min_valid_loss = running_vl"
   ]
  },
  {
   "cell_type": "code",
   "execution_count": 28,
   "metadata": {},
   "outputs": [
    {
     "data": {
      "image/png": "[encoded data removed]",
      "text/plain": [
       "<Figure size 432x288 with 1 Axes>"
      ]
     },
     "metadata": {
      "needs_background": "light"
     },
     "output_type": "display_data"
    }
   ],
   "source": [
    "plt.title('Loss vs Epochs')\n",
    "plt.xlabel('Epochs')\n",
    "plt.plot(train_loss, label='Training')\n",
    "plt.plot(valid_loss, label='Validation')\n",
    "plt.legend()\n",
    "plt.show()"
   ]
  },
  {
   "cell_type": "code",
   "execution_count": 35,
   "metadata": {},
   "outputs": [],
   "source": [
    "testdata = pd.read_csv('data/test.csv').to_numpy(dtype='float64')\n",
    "testdata = torch.from_numpy(testdata)"
   ]
  },
  {
   "cell_type": "code",
   "execution_count": 36,
   "metadata": {},
   "outputs": [],
   "source": [
    "model.load_state_dict(torch.load('model2.pt'))\n",
    "out = model(testdata.float().to(device))\n",
    "out = logps.to('cpu');"
   ]
  },
  {
   "cell_type": "code",
   "execution_count": 37,
   "metadata": {},
   "outputs": [],
   "source": [
    "predictions = torch.argmax(out, dim=1).numpy()"
   ]
  },
  {
   "cell_type": "code",
   "execution_count": 38,
   "metadata": {},
   "outputs": [],
   "source": [
    "sub_df = pd.DataFrame({\n",
    "    'ImageId':range(1, len(predictions) + 1),\n",
    "    'Label':predictions\n",
    "})"
   ]
  },
  {
   "cell_type": "code",
   "execution_count": 39,
   "metadata": {},
   "outputs": [],
   "source": [
    "sub_df.to_csv('submission.csv', index=False)"
   ]
  }
 ],
 "metadata": {
  "environment": {
   "name": "pytorch-gpu.1-4.m49",
   "type": "gcloud",
   "uri": "gcr.io/deeplearning-platform-release/pytorch-gpu.1-4:m49"
  },
  "kernelspec": {
   "display_name": "Python 3",
   "language": "python",
   "name": "python3"
  },
  "language_info": {
   "codemirror_mode": {
    "name": "ipython",
    "version": 3
   },
   "file_extension": ".py",
   "mimetype": "text/x-python",
   "name": "python",
   "nbconvert_exporter": "python",
   "pygments_lexer": "ipython3",
   "version": "3.7.6"
  }
 },
 "nbformat": 4,
 "nbformat_minor": 4
}
