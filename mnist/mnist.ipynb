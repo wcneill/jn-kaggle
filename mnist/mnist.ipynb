{
 "cells": [
  {
   "cell_type": "code",
   "execution_count": null,
   "metadata": {},
   "outputs": [],
   "source": [
    "import torch\n",
    "import torch.nn.functional as F\n",
    "from torchvision import datasets, transforms, models\n",
    "from torch import nn, optim\n",
    "from torch.utils.data import Dataset, DataLoader\n",
    "\n",
    "import pandas as pd\n",
    "import numpy as np\n",
    "import matplotlib.pyplot as plt"
   ]
  },
  {
   "cell_type": "code",
   "execution_count": null,
   "metadata": {},
   "outputs": [],
   "source": [
    "class KaggleMNIST(Dataset):\n",
    "    \"\"\" Kaggle's MNIST dataset. \"\"\"\n",
    "    def __init__(self, csv_file, transform=None):\n",
    "        \"\"\"\n",
    "        Args: \n",
    "            csv_file (string): Path to CSV file with image pixel data\n",
    "            transform (callable, optional): Optional transform applied to the sample\n",
    "        \"\"\"\n",
    "        self.pixel_frame = pd.read_csv(csv_file)\n",
    "        self.transform = transform\n",
    "\n",
    "    def __len__(self):\n",
    "        return len(self.pixel_frame)\n",
    "\n",
    "    def __getitem__(self, index):\n",
    "        if torch.is_tensor(index):\n",
    "            index = index.tolist()\n",
    "\n",
    "        image = self.pixel_frame.iloc[index, 1:].to_numpy(dtype='float64').reshape(1, -1)\n",
    "        label = self.pixel_frame.iloc[index, 0]\n",
    "        if self.transform:\n",
    "            image = self.transform(image)\n",
    "\n",
    "        return {'image':image, 'label':label}\n",
    "    \n",
    "class normalize(object):\n",
    "    \"\"\"\n",
    "    Normalize image vectors from Kaggle's MNIST dataset\n",
    "    \"\"\"\n",
    "    def __init__(self, mean, std):\n",
    "        self.mean = mean\n",
    "        self.std = std\n",
    "    \n",
    "    def __call__(self, image):\n",
    "        return (image - self.mean) / self.std\n",
    "    "
   ]
  },
  {
   "cell_type": "code",
   "execution_count": null,
   "metadata": {},
   "outputs": [],
   "source": [
    "tfs = transforms.Compose([transforms.ToTensor(), \n",
    "                          normalize(0.5, 0.5)])\n",
    "\n",
    "trainset = KaggleMNIST('train/train.csv', transform=tfs)\n",
    "testset = KaggleMNIST('test/test.csv')\n",
    "\n",
    "trainload = torch.utils.data.DataLoader(trainset, batch_size=64, shuffle=True)\n",
    "testload = torch.utils.data.DataLoader(testset, batch_size=64, shuffle=True)"
   ]
  },
  {
   "cell_type": "code",
   "execution_count": null,
   "metadata": {},
   "outputs": [],
   "source": [
    "sample = iter(trainload).next()\n",
    "images = sample['image']\n",
    "images.shape"
   ]
  },
  {
   "cell_type": "code",
   "execution_count": null,
   "metadata": {},
   "outputs": [],
   "source": [
    "images.view(images.shape[0], -1).shape"
   ]
  },
  {
   "cell_type": "code",
   "execution_count": null,
   "metadata": {},
   "outputs": [],
   "source": [
    "class Network(nn.Module):\n",
    "    def __init__(self):\n",
    "        super().__init__()\n",
    "        self.fc1 = nn.Linear(784, 392)\n",
    "        self.fc2 = nn.Linear(392, 196)\n",
    "        self.fc3 = nn.Linear(196, 98)\n",
    "        self.fc4 = nn.Linear(98, 10)\n",
    "        self.do = nn.Dropout(p=0.2)\n",
    "    \n",
    "    def forward(self, x):\n",
    "        x = self.do(F.relu(self.fc1(x)))\n",
    "        x = self.do(F.relu(self.fc2(x)))\n",
    "        x = self.do(F.relu(self.fc3(x)))\n",
    "        x = F.log_softmax(self.fc4(x), dim=1)\n",
    "        return x\n",
    "        "
   ]
  },
  {
   "cell_type": "code",
   "execution_count": null,
   "metadata": {},
   "outputs": [],
   "source": [
    "device = torch.device('cuda' if torch.cuda.is_available() else 'cpu')\n",
    "model  = Network()\n",
    "criterion = nn.NLLLoss()\n",
    "opt = optim.Adam(model.parameters(), lr=0.003)\n",
    "epochs = 1\n",
    "\n",
    "valid_loss = []\n",
    "train_loss = []\n",
    "accuracy   = []\n",
    "\n",
    "model.to(device)\n",
    "\n",
    "for e in range(epochs):\n",
    "    running_vl = 0\n",
    "    running_tl = 0\n",
    "    running_ac = 0\n",
    "    \n",
    "    # back propogation\n",
    "    for sample in trainload:\n",
    "        images = sample['image'].to(device)\n",
    "        labels = sample['label'].to(device)\n",
    "        images = images.view(images.shape[0], -1)\n",
    "        \n",
    "        opt.zero_grad()\n",
    "        logps = model.forward(images.float())\n",
    "        t_loss = criterion(logps, labels)\n",
    "        t_loss.backward()\n",
    "        opt.step()\n",
    "        \n",
    "        running_tl += t_loss.item()\n",
    "        \n",
    "    # validation pass\n",
    "    model.eval()\n",
    "    with torch.no_grad():\n",
    "        for sample in testload:\n",
    "            images = sample['image']\n",
    "            labels = sample['label']\n",
    "\n",
    "            logps = model(images)\n",
    "            preds = torch.argmax(logps, dim=1)\n",
    "            v_loss = criterion(logps, labels)\n",
    "\n",
    "            running_ac += (preds == labels).mean()\n",
    "            running_vl += v_loss.item()\n",
    "    model.train()\n",
    "    \n",
    "    # compute metrics for epoch\n",
    "    train_loss.append(running_tl/len(trainload))\n",
    "    valid_loss.append(running_vl/len(testload))\n",
    "    accuracy.apend(running_ac/len(testload))"
   ]
  },
  {
   "cell_type": "code",
   "execution_count": null,
   "metadata": {},
   "outputs": [],
   "source": []
  }
 ],
 "metadata": {
  "kernelspec": {
   "display_name": "Python 3",
   "language": "python",
   "name": "python3"
  },
  "language_info": {
   "codemirror_mode": {
    "name": "ipython",
    "version": 3
   },
   "file_extension": ".py",
   "mimetype": "text/x-python",
   "name": "python",
   "nbconvert_exporter": "python",
   "pygments_lexer": "ipython3",
   "version": "3.8.0"
  }
 },
 "nbformat": 4,
 "nbformat_minor": 4
}
